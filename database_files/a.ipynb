{
 "cells": [
  {
   "cell_type": "code",
   "execution_count": 1,
   "metadata": {},
   "outputs": [],
   "source": [
    "import csv"
   ]
  },
  {
   "cell_type": "code",
   "execution_count": 2,
   "metadata": {},
   "outputs": [
    {
     "name": "stdout",
     "output_type": "stream",
     "text": [
      "['0', 'Bommeow BCT15-M12 1-Wire Acoustic Clear Tube Earpiece for Motorola SL1K SL2K SL2600 SL7590 SL500 SL8050', '4.1', '3', '9.9', 'Bommeow', 'B08VFFRF3Y', 'Headsets & Microphones', \"['https://m.media-amazon.com/images/I/41M7itxmq9L._AC_.jpg', 'https://m.media-amazon.com/images/I/31fPbPg8flL._AC_.jpg', 'https://m.media-amazon.com/images/I/41dIjmxw4-L._AC_.jpg', 'https://m.media-amazon.com/images/I/4144l2+EiaL._AC_.jpg', 'https://m.media-amazon.com/images/I/31LbsLsfwmL._AC_.jpg', 'https://m.media-amazon.com/images/I/41Wpl3CddGL._AC_.jpg', 'https://m.media-amazon.com/images/I/41Wpl3CddGL._AC_.jpg']\", '[]']\n"
     ]
    }
   ],
   "source": [
    "with open('../database_files/database_meta.csv', mode='r') as file:\n",
    "\t# Create a CSV reader object\n",
    "\tcsv_reader = csv.reader(file)\n",
    "\tnext(csv_reader)\n",
    "\t# Iterate over each row in the CSV file\n",
    "\tcount = 0\n",
    "\tfor row in csv_reader:\n",
    "\t\tprint(row)\n",
    "\t\tbreak"
   ]
  },
  {
   "cell_type": "code",
   "execution_count": null,
   "metadata": {},
   "outputs": [],
   "source": []
  }
 ],
 "metadata": {
  "kernelspec": {
   "display_name": "Python 3",
   "language": "python",
   "name": "python3"
  },
  "language_info": {
   "codemirror_mode": {
    "name": "ipython",
    "version": 3
   },
   "file_extension": ".py",
   "mimetype": "text/x-python",
   "name": "python",
   "nbconvert_exporter": "python",
   "pygments_lexer": "ipython3",
   "version": "3.10.12"
  }
 },
 "nbformat": 4,
 "nbformat_minor": 2
}
