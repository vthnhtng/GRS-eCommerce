{
 "cells": [
  {
   "cell_type": "code",
   "execution_count": 1,
   "metadata": {},
   "outputs": [],
   "source": [
    "import pandas as pd\n",
    "import os\n",
    "import shutil\n",
    "import json"
   ]
  },
  {
   "cell_type": "code",
   "execution_count": 2,
   "metadata": {},
   "outputs": [],
   "source": [
    "data_dir = \"./data\"\n",
    "reviews_fn = \"Electronics.csv\"\n",
    "metadata_fn = \"meta_Electronics.jsonl\"\n",
    "metadata_split = \"meta/\"\n",
    "reviews_split = \"reviews/\""
   ]
  },
  {
   "cell_type": "code",
   "execution_count": 3,
   "metadata": {},
   "outputs": [],
   "source": [
    "train_df = pd.read_csv(\"data/preprocessed_metadata.csv\")"
   ]
  },
  {
   "cell_type": "code",
   "execution_count": 4,
   "metadata": {},
   "outputs": [],
   "source": [
    "def split_jsonl(input_file, output_folder, num_files):\n",
    "\tif os.path.isdir(output_folder):\n",
    "\t\tshutil.rmtree(output_folder)\n",
    "\n",
    "\tif not os.path.exists(output_folder):\n",
    "\t\tos.makedirs(output_folder)\n",
    "\n",
    "\twith open(input_file, 'r', encoding='utf-8') as f:\n",
    "\t\tfile_count = 1\n",
    "\t\tlines_per_file = sum(1 for line in f) // num_files\n",
    "\t\tf.seek(0)  # Reset file pointer to the beginning\n",
    "\t\tlines = []\n",
    "\t\tfor idx, line in enumerate(f):\n",
    "\t\t\tlines.append(line)\n",
    "\t\t\t# If reached the desired number of lines per file or end of input file\n",
    "\t\t\tif len(lines) == lines_per_file or idx == (os.stat(input_file).st_size - 1):\n",
    "\t\t\t\toutput_file = os.path.join(\n",
    "\t\t\t\t\toutput_folder, f'{file_count}.jsonl')\n",
    "\t\t\t\twith open(output_file, 'w', encoding='utf-8') as fw:\n",
    "\t\t\t\t\tfw.writelines(lines)\n",
    "\t\t\t\tlines = []\n",
    "\t\t\t\tfile_count += 1"
   ]
  },
  {
   "cell_type": "code",
   "execution_count": 5,
   "metadata": {},
   "outputs": [],
   "source": [
    "def load_jsonl_to_df(file_path):\n",
    "\tdata = []\n",
    "\twith open(file_path, 'r', encoding='utf-8') as file:\n",
    "\t\tfor line in file:\n",
    "\t\t\tdata.append(json.loads(line.strip()))\n",
    "\n",
    "\tdf = pd.DataFrame(data)\n",
    "\treturn df"
   ]
  },
  {
   "cell_type": "code",
   "execution_count": 6,
   "metadata": {},
   "outputs": [],
   "source": [
    "# Load metadata\n",
    "metadata_path = os.path.join(data_dir, metadata_fn)\n",
    "metadata_split_path = os.path.join(data_dir, metadata_split)"
   ]
  },
  {
   "cell_type": "code",
   "execution_count": 7,
   "metadata": {},
   "outputs": [],
   "source": [
    "split_files_num = 512\n",
    "split_jsonl(metadata_path, metadata_split_path, split_files_num)"
   ]
  },
  {
   "cell_type": "code",
   "execution_count": 8,
   "metadata": {},
   "outputs": [],
   "source": [
    "jsonl_paths = []\n",
    "all_files = [os.path.join(metadata_split_path, fn) for fn in os.listdir(\n",
    "\tmetadata_split_path) if os.path.isfile(os.path.join(metadata_split_path, fn))]"
   ]
  },
  {
   "cell_type": "code",
   "execution_count": 9,
   "metadata": {},
   "outputs": [],
   "source": [
    "metadata_df = pd.DataFrame()\n",
    "columns_to_drop = ['main_category', 'features', 'videos', 'details',\n",
    "\t\t\t\t   'bought_together', 'subtitle', 'author']"
   ]
  },
  {
   "cell_type": "code",
   "execution_count": 10,
   "metadata": {},
   "outputs": [
    {
     "data": {
      "text/plain": [
       "104490"
      ]
     },
     "execution_count": 10,
     "metadata": {},
     "output_type": "execute_result"
    }
   ],
   "source": [
    "len(train_df['parent_asin'].unique())"
   ]
  },
  {
   "cell_type": "code",
   "execution_count": 11,
   "metadata": {},
   "outputs": [],
   "source": [
    "asin_list = list(train_df['parent_asin'])"
   ]
  },
  {
   "cell_type": "code",
   "execution_count": 12,
   "metadata": {},
   "outputs": [
    {
     "data": {
      "text/plain": [
       "104490"
      ]
     },
     "execution_count": 12,
     "metadata": {},
     "output_type": "execute_result"
    }
   ],
   "source": [
    "len(asin_list)"
   ]
  },
  {
   "cell_type": "code",
   "execution_count": 13,
   "metadata": {},
   "outputs": [],
   "source": [
    "data = {\n",
    "    'parent_asin': [],\n",
    "    'images': [],\n",
    "    'description': []\n",
    "}\n",
    "for f in all_files:\n",
    "    # Load each file into a DataFrame\n",
    "    # Assuming load_jsonl_to_df is a function that loads JSONL to DataFrame\n",
    "    df = load_jsonl_to_df(f)\n",
    "\n",
    "    # Check if 'parent_asin' values are in train_df\n",
    "    mask = df['parent_asin'].isin(asin_list)\n",
    "\n",
    "    # Filter the DataFrame based on the mask\n",
    "    matching_rows = df[mask]\n",
    "\n",
    "    data['parent_asin'].extend(matching_rows['parent_asin'].to_list())\n",
    "    data['images'].extend(matching_rows['images'].to_list())\n",
    "    data['description'].extend(matching_rows['description'].to_list())"
   ]
  },
  {
   "cell_type": "code",
   "execution_count": 14,
   "metadata": {},
   "outputs": [],
   "source": [
    "train_df['images'] = None\n",
    "train_df['description'] = None"
   ]
  },
  {
   "cell_type": "code",
   "execution_count": 15,
   "metadata": {},
   "outputs": [],
   "source": [
    "for i in range(0, len(data['parent_asin'])):\n",
    "    asin = data['parent_asin'][i]\n",
    "    row_index = train_df.index[train_df['parent_asin'] == asin]\n",
    "    train_df.at[row_index[0], 'images'] = data['images'][i]\n",
    "    train_df.at[row_index[0], 'description'] = data['description'][i]"
   ]
  },
  {
   "cell_type": "code",
   "execution_count": 16,
   "metadata": {},
   "outputs": [],
   "source": [
    "train_df = train_df.dropna()"
   ]
  },
  {
   "cell_type": "code",
   "execution_count": 17,
   "metadata": {},
   "outputs": [],
   "source": [
    "train_df['images'] = train_df['images'].apply(lambda x: [item['large'] for item in x])"
   ]
  },
  {
   "cell_type": "code",
   "execution_count": 18,
   "metadata": {},
   "outputs": [],
   "source": [
    "train_df.to_csv(\"./database_meta.csv\")"
   ]
  },
  {
   "cell_type": "code",
   "execution_count": 19,
   "metadata": {},
   "outputs": [],
   "source": [
    "if os.path.isdir(metadata_split_path):\n",
    "\tshutil.rmtree(metadata_split_path)"
   ]
  }
 ],
 "metadata": {
  "kernelspec": {
   "display_name": "Python 3",
   "language": "python",
   "name": "python3"
  },
  "language_info": {
   "codemirror_mode": {
    "name": "ipython",
    "version": 3
   },
   "file_extension": ".py",
   "mimetype": "text/x-python",
   "name": "python",
   "nbconvert_exporter": "python",
   "pygments_lexer": "ipython3",
   "version": "3.10.12"
  }
 },
 "nbformat": 4,
 "nbformat_minor": 2
}
