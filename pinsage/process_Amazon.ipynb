{
 "cells": [
  {
   "cell_type": "code",
   "execution_count": 4,
   "metadata": {},
   "outputs": [],
   "source": [
    "import numpy as np\n",
    "import pandas as pd\n",
    "import torch\n",
    "import torchtext\n",
    "from builder import PandasGraphBuilder\n",
    "from data_utils import *\n",
    "\n",
    "import dgl\n",
    "\n",
    "import os\n",
    "import pickle\n",
    "import re\n",
    "\n",
    "import gzip\n",
    "import json\n",
    "import shutil\n",
    "\n",
    "import random"
   ]
  },
  {
   "cell_type": "code",
   "execution_count": 5,
   "metadata": {},
   "outputs": [],
   "source": [
    "data_dir = \"./data\"\n",
    "reviews_fn = \"Electronics.csv\"\n",
    "metadata_fn = \"preprocessed_metadata.csv\"\n",
    "data_out_fn = \"Amazon_Electronics.pkl\""
   ]
  },
  {
   "cell_type": "markdown",
   "metadata": {},
   "source": [
    "# Process metadata"
   ]
  },
  {
   "cell_type": "code",
   "execution_count": 6,
   "metadata": {},
   "outputs": [],
   "source": [
    "# Load metadata\n",
    "metadata_path = os.path.join(data_dir, metadata_fn)"
   ]
  },
  {
   "cell_type": "code",
   "execution_count": 7,
   "metadata": {},
   "outputs": [],
   "source": [
    "metadata_df = pd.read_csv(metadata_path)"
   ]
  },
  {
   "cell_type": "code",
   "execution_count": 8,
   "metadata": {},
   "outputs": [],
   "source": [
    "metadata_df.reset_index(drop=True, inplace=True)"
   ]
  },
  {
   "cell_type": "code",
   "execution_count": 9,
   "metadata": {},
   "outputs": [],
   "source": [
    "metadata_df = metadata_df.dropna()"
   ]
  },
  {
   "cell_type": "code",
   "execution_count": 10,
   "metadata": {},
   "outputs": [
    {
     "data": {
      "text/plain": [
       "101128"
      ]
     },
     "execution_count": 10,
     "metadata": {},
     "output_type": "execute_result"
    }
   ],
   "source": [
    "len(metadata_df)"
   ]
  },
  {
   "cell_type": "code",
   "execution_count": 11,
   "metadata": {},
   "outputs": [
    {
     "data": {
      "text/plain": [
       "101128"
      ]
     },
     "execution_count": 11,
     "metadata": {},
     "output_type": "execute_result"
    }
   ],
   "source": [
    "# Get distinct asin list\n",
    "asin_array = metadata_df['parent_asin'].unique()\n",
    "len(asin_array)"
   ]
  },
  {
   "cell_type": "markdown",
   "metadata": {},
   "source": [
    "# Process reviews"
   ]
  },
  {
   "cell_type": "code",
   "execution_count": 12,
   "metadata": {},
   "outputs": [],
   "source": [
    "# Load reviews\n",
    "reviews_path = os.path.join(data_dir, reviews_fn)\n",
    "reviews_df = pd.read_csv(reviews_path)"
   ]
  },
  {
   "cell_type": "code",
   "execution_count": 13,
   "metadata": {},
   "outputs": [
    {
     "data": {
      "text/plain": [
       "15473536"
      ]
     },
     "execution_count": 13,
     "metadata": {},
     "output_type": "execute_result"
    }
   ],
   "source": [
    "len(reviews_df)"
   ]
  },
  {
   "cell_type": "code",
   "execution_count": 14,
   "metadata": {},
   "outputs": [],
   "source": [
    "# filter reviewed asin with metadata\n",
    "reviews_df = reviews_df[reviews_df['parent_asin'].isin(asin_array)]"
   ]
  },
  {
   "cell_type": "code",
   "execution_count": 15,
   "metadata": {},
   "outputs": [],
   "source": [
    "out_reviews_path = \"./data/preprocessed_reviews.csv\"\n",
    "# Write the DataFrame to a CSV file\n",
    "reviews_df.to_csv(out_reviews_path, index=False)"
   ]
  },
  {
   "cell_type": "code",
   "execution_count": 16,
   "metadata": {},
   "outputs": [
    {
     "data": {
      "text/plain": [
       "1744048"
      ]
     },
     "execution_count": 16,
     "metadata": {},
     "output_type": "execute_result"
    }
   ],
   "source": [
    "len(reviews_df)"
   ]
  },
  {
   "cell_type": "code",
   "execution_count": null,
   "metadata": {},
   "outputs": [],
   "source": []
  },
  {
   "cell_type": "markdown",
   "metadata": {},
   "source": [
    "# Process users"
   ]
  },
  {
   "cell_type": "code",
   "execution_count": 17,
   "metadata": {},
   "outputs": [],
   "source": [
    "users_df = reviews_df[['user_id']].drop_duplicates()"
   ]
  },
  {
   "cell_type": "code",
   "execution_count": 18,
   "metadata": {},
   "outputs": [
    {
     "data": {
      "text/plain": [
       "974207"
      ]
     },
     "execution_count": 18,
     "metadata": {},
     "output_type": "execute_result"
    }
   ],
   "source": [
    "len(users_df)"
   ]
  },
  {
   "cell_type": "code",
   "execution_count": 19,
   "metadata": {},
   "outputs": [],
   "source": [
    "out_reviews_path = \"users.csv\"\n",
    "# Write the DataFrame to a CSV file\n",
    "users_df.to_csv(out_reviews_path, index=False)"
   ]
  },
  {
   "cell_type": "markdown",
   "metadata": {},
   "source": [
    "# Process event"
   ]
  },
  {
   "cell_type": "code",
   "execution_count": 16,
   "metadata": {},
   "outputs": [],
   "source": [
    "events_df = reviews_df[['user_id', 'parent_asin', 'timestamp', 'rating']]"
   ]
  },
  {
   "cell_type": "code",
   "execution_count": 17,
   "metadata": {},
   "outputs": [
    {
     "data": {
      "text/plain": [
       "1744048"
      ]
     },
     "execution_count": 17,
     "metadata": {},
     "output_type": "execute_result"
    }
   ],
   "source": [
    "len(events_df)"
   ]
  },
  {
   "cell_type": "markdown",
   "metadata": {},
   "source": [
    "# Build graph"
   ]
  },
  {
   "cell_type": "code",
   "execution_count": 18,
   "metadata": {},
   "outputs": [],
   "source": [
    "graph_builder = PandasGraphBuilder()\n",
    "graph_builder.add_entities(users_df, \"user_id\", 'user')\n",
    "graph_builder.add_entities(metadata_df, \"parent_asin\", 'product')\n",
    "graph_builder.add_binary_relations(events_df, 'user_id', 'parent_asin', 'reviewed')\n",
    "graph_builder.add_binary_relations(events_df, 'parent_asin', 'user_id', 'reviewed-by')"
   ]
  },
  {
   "cell_type": "code",
   "execution_count": 19,
   "metadata": {},
   "outputs": [],
   "source": [
    "g = graph_builder.build()"
   ]
  },
  {
   "cell_type": "markdown",
   "metadata": {},
   "source": [
    "# Assign node features"
   ]
  },
  {
   "cell_type": "code",
   "execution_count": 20,
   "metadata": {},
   "outputs": [],
   "source": [
    "# Process price feature\n",
    "metadata_df['price'].apply(lambda x: int( float(x)*100 ))\n",
    "g.nodes['product'].data['price'] = torch.LongTensor(np.array(metadata_df['price'].values))"
   ]
  },
  {
   "cell_type": "code",
   "execution_count": 21,
   "metadata": {},
   "outputs": [],
   "source": [
    "# Process avg rating feature\n",
    "g.nodes['product'].data['average_rating'] = torch.LongTensor(metadata_df['average_rating'].values)"
   ]
  },
  {
   "cell_type": "code",
   "execution_count": 22,
   "metadata": {},
   "outputs": [],
   "source": [
    "# Process niche feature\n",
    "unique_niches = metadata_df['niche'].unique()\n",
    "niche_to_index = {niche: index for index, niche in enumerate(unique_niches)}\n",
    "# Replace niche values with their corresponding integer indices\n",
    "metadata_df['niche_index'] = metadata_df['niche'].map(niche_to_index)\n",
    "g.nodes['product'].data['niche'] = torch.LongTensor(np.array(metadata_df['niche_index'].values))"
   ]
  },
  {
   "cell_type": "code",
   "execution_count": 23,
   "metadata": {},
   "outputs": [],
   "source": [
    "# Process store\n",
    "unique_stores = metadata_df['store'].unique()\n",
    "store_to_index = {store: index for index, store in enumerate(unique_stores)}\n",
    "# Replace store values with their corresponding integer indices\n",
    "metadata_df['store_index'] = metadata_df['store'].map(niche_to_index)\n",
    "g.nodes['product'].data['store'] = torch.LongTensor(np.array(metadata_df['store_index'].values))"
   ]
  },
  {
   "cell_type": "markdown",
   "metadata": {},
   "source": [
    "# Assign edge features"
   ]
  },
  {
   "cell_type": "code",
   "execution_count": 24,
   "metadata": {},
   "outputs": [],
   "source": [
    "# add edge features\n",
    "g.edges['reviewed'].data['rating'] = torch.FloatTensor(events_df['rating'].values)\n",
    "g.edges['reviewed'].data['timestamp'] = torch.LongTensor(events_df['timestamp'].values)\n",
    "\n",
    "g.edges['reviewed-by'].data['rating'] = torch.FloatTensor(events_df['rating'].values)\n",
    "g.edges['reviewed-by'].data['timestamp'] = torch.LongTensor(events_df['timestamp'].values)"
   ]
  },
  {
   "cell_type": "markdown",
   "metadata": {},
   "source": [
    "# Train-validation-test split"
   ]
  },
  {
   "cell_type": "code",
   "execution_count": 25,
   "metadata": {},
   "outputs": [
    {
     "name": "stderr",
     "output_type": "stream",
     "text": [
      "/home/vthnhtng/Desktop/pinsage/data_utils.py:14: SettingWithCopyWarning: \n",
      "A value is trying to be set on a copy of a slice from a DataFrame.\n",
      "Try using .loc[row_indexer,col_indexer] = value instead\n",
      "\n",
      "See the caveats in the documentation: https://pandas.pydata.org/pandas-docs/stable/user_guide/indexing.html#returning-a-view-versus-a-copy\n",
      "  df[\"train_mask\"] = np.ones((len(df),), dtype=np.bool_)\n",
      "/home/vthnhtng/Desktop/pinsage/data_utils.py:15: SettingWithCopyWarning: \n",
      "A value is trying to be set on a copy of a slice from a DataFrame.\n",
      "Try using .loc[row_indexer,col_indexer] = value instead\n",
      "\n",
      "See the caveats in the documentation: https://pandas.pydata.org/pandas-docs/stable/user_guide/indexing.html#returning-a-view-versus-a-copy\n",
      "  df[\"val_mask\"] = np.zeros((len(df),), dtype=np.bool_)\n",
      "/home/vthnhtng/Desktop/pinsage/data_utils.py:16: SettingWithCopyWarning: \n",
      "A value is trying to be set on a copy of a slice from a DataFrame.\n",
      "Try using .loc[row_indexer,col_indexer] = value instead\n",
      "\n",
      "See the caveats in the documentation: https://pandas.pydata.org/pandas-docs/stable/user_guide/indexing.html#returning-a-view-versus-a-copy\n",
      "  df[\"test_mask\"] = np.zeros((len(df),), dtype=np.bool_)\n",
      "/home/vthnhtng/Desktop/pinsage/data_utils.py:42: UserWarning: `meta` is not specified, inferred from partial data. Please provide `meta` if the result is unexpected.\n",
      "  Before: .apply(func)\n",
      "  After:  .apply(func, meta={'x': 'f8', 'y': 'f8'}) for dataframe result\n",
      "  or:     .apply(func, meta=('x', 'f8'))            for series result\n",
      "  .apply(train_test_split)\n"
     ]
    },
    {
     "name": "stdout",
     "output_type": "stream",
     "text": [
      "                         user_id parent_asin      timestamp  rating  \\\n",
      "10  AGBFYI2DDIKXC5Y4FARTYDTQBMFQ  B00RH29CJO  1535118501776     5.0   \n",
      "12  AGBFYI2DDIKXC5Y4FARTYDTQBMFQ  B0093162RM  1578593798362     5.0   \n",
      "\n",
      "    train_mask  val_mask  test_mask  \n",
      "10        True     False      False  \n",
      "12       False     False       True  \n"
     ]
    }
   ],
   "source": [
    "train_indices, val_indices, test_indices = train_test_split_by_time(\n",
    "\tevents_df, \"timestamp\", \"user_id\")"
   ]
  },
  {
   "cell_type": "markdown",
   "metadata": {},
   "source": [
    "# Build train graph"
   ]
  },
  {
   "cell_type": "code",
   "execution_count": 26,
   "metadata": {},
   "outputs": [],
   "source": [
    "train_g = build_train_graph(\n",
    "\tg, train_indices, 'user', 'product', 'reviewed', 'reviewed-by')\n",
    "assert train_g.out_degrees(etype='reviewed').min() > 0"
   ]
  },
  {
   "cell_type": "code",
   "execution_count": 27,
   "metadata": {},
   "outputs": [],
   "source": [
    "# Build sparse matrix for validation and test\n",
    "val_matrix, test_matrix = build_val_test_matrix(\n",
    "\tg, val_indices, test_indices, 'user', 'product', 'reviewed')\n",
    "# return type: (ssp.coo_matrix, ssp.coo_matrix)"
   ]
  },
  {
   "cell_type": "code",
   "execution_count": 28,
   "metadata": {},
   "outputs": [],
   "source": [
    "textual_dataset = {\n",
    "\t'title': metadata_df['title'].values.astype(str)\n",
    "}"
   ]
  },
  {
   "cell_type": "code",
   "execution_count": 29,
   "metadata": {},
   "outputs": [],
   "source": [
    "dataset = {\n",
    "\t'full-graph': g,\n",
    "\t'train-graph': train_g,\n",
    "\t'val-matrix': val_matrix,\n",
    "\t'test-matrix': test_matrix,\n",
    "\t'item-texts': textual_dataset,\n",
    "\t'item-images': None,\n",
    "\t'user-list': users_df['user_id'].values,\n",
    "\t'product-list': metadata_df['parent_asin'].values,\n",
    "\t'user-type': 'user',\n",
    "\t'item-type': 'product',\n",
    "\t'user-to-item-type': 'reviewed',\n",
    "\t'item-to-user-type': 'reviewed-by',\n",
    "\t'timestamp-edge-column': 'timestamp'\n",
    "}"
   ]
  },
  {
   "cell_type": "markdown",
   "metadata": {},
   "source": [
    "# Save dataset"
   ]
  },
  {
   "cell_type": "code",
   "execution_count": 30,
   "metadata": {},
   "outputs": [],
   "source": [
    "with open(os.path.join(\"./data/processed_pinsage_Amazon_electronics.pkl\"), \"wb\") as f:\n",
    "\tpickle.dump(dataset, f)"
   ]
  }
 ],
 "metadata": {
  "kernelspec": {
   "display_name": "Python 3",
   "language": "python",
   "name": "python3"
  },
  "language_info": {
   "codemirror_mode": {
    "name": "ipython",
    "version": 3
   },
   "file_extension": ".py",
   "mimetype": "text/x-python",
   "name": "python",
   "nbconvert_exporter": "python",
   "pygments_lexer": "ipython3",
   "version": "3.10.12"
  }
 },
 "nbformat": 4,
 "nbformat_minor": 2
}
