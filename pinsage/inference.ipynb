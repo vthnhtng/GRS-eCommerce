{
 "cells": [
  {
   "cell_type": "code",
   "execution_count": 4,
   "metadata": {},
   "outputs": [],
   "source": [
    "import os\n",
    "import pickle\n",
    "\n",
    "import dgl\n",
    "\n",
    "import evaluation\n",
    "import layers\n",
    "import numpy as np\n",
    "import sampler as sampler_module\n",
    "import torch\n",
    "import torch.nn as nn\n",
    "import torchtext\n",
    "import tqdm\n",
    "from torch.utils.data import DataLoader\n",
    "from torchtext.data.utils import get_tokenizer\n",
    "from torchtext.vocab import build_vocab_from_iterator\n",
    "\n",
    "from model import *\n",
    "import json\n",
    "\n",
    "from evaluation import *\n",
    "\n",
    "import pandas as pd"
   ]
  },
  {
   "cell_type": "code",
   "execution_count": 5,
   "metadata": {},
   "outputs": [],
   "source": [
    "#Load dataset\n",
    "dataset_path = \"./data/processed_pinsage_Amazon_electronics.pkl\"\n",
    "with open(dataset_path, \"rb\") as f:\n",
    "\tdataset = pickle.load(f)"
   ]
  },
  {
   "cell_type": "code",
   "execution_count": 6,
   "metadata": {},
   "outputs": [],
   "source": [
    "user_df = pd.DataFrame(dataset['user-list'])"
   ]
  },
  {
   "cell_type": "code",
   "execution_count": 7,
   "metadata": {},
   "outputs": [
    {
     "data": {
      "text/plain": [
       "Graph(num_nodes={'product': 101128, 'user': 974207},\n",
       "      num_edges={('product', 'reviewed-by', 'user'): 1744048, ('user', 'reviewed', 'product'): 1744048},\n",
       "      metagraph=[('product', 'user', 'reviewed-by'), ('user', 'product', 'reviewed')])"
      ]
     },
     "execution_count": 7,
     "metadata": {},
     "output_type": "execute_result"
    }
   ],
   "source": [
    "dataset['full-graph']"
   ]
  },
  {
   "cell_type": "code",
   "execution_count": 8,
   "metadata": {},
   "outputs": [],
   "source": [
    "# Load config\n",
    "config_path = \"./config/pinsage-params.json\"\n",
    "with open(config_path, \"rb\") as f:\n",
    "    model_config = json.load(f)"
   ]
  },
  {
   "cell_type": "code",
   "execution_count": 9,
   "metadata": {},
   "outputs": [],
   "source": [
    "checkpoint = torch.load(\"saved_models/price_niche_rating_store/pinsage_AmazonElectronics_500_price_niche_rating_store.pth\")"
   ]
  },
  {
   "cell_type": "code",
   "execution_count": 10,
   "metadata": {},
   "outputs": [
    {
     "data": {
      "text/plain": [
       "0.01346542608882828"
      ]
     },
     "execution_count": 10,
     "metadata": {},
     "output_type": "execute_result"
    }
   ],
   "source": [
    "checkpoint['loss']"
   ]
  },
  {
   "cell_type": "code",
   "execution_count": 11,
   "metadata": {},
   "outputs": [
    {
     "data": {
      "text/plain": [
       "0.00396630284939443"
      ]
     },
     "execution_count": 11,
     "metadata": {},
     "output_type": "execute_result"
    }
   ],
   "source": [
    "checkpoint['hit_rate']"
   ]
  },
  {
   "cell_type": "code",
   "execution_count": 12,
   "metadata": {},
   "outputs": [],
   "source": [
    "h_items = checkpoint['item_embeddings']"
   ]
  },
  {
   "cell_type": "code",
   "execution_count": 13,
   "metadata": {},
   "outputs": [],
   "source": [
    "g = dataset[\"train-graph\"]\n",
    "val_matrix = dataset[\"val-matrix\"].tocsr()\n",
    "test_matrix = dataset[\"test-matrix\"].tocsr()\n",
    "item_texts = dataset[\"item-texts\"]\n",
    "user_ntype = dataset[\"user-type\"]\n",
    "item_ntype = dataset[\"item-type\"]\n",
    "user_to_item_etype = dataset[\"user-to-item-type\"]\n",
    "timestamp = dataset[\"timestamp-edge-column\"]"
   ]
  },
  {
   "cell_type": "code",
   "execution_count": 14,
   "metadata": {},
   "outputs": [],
   "source": [
    "product_list = dataset['product-list']"
   ]
  },
  {
   "cell_type": "code",
   "execution_count": 15,
   "metadata": {},
   "outputs": [],
   "source": [
    "data = {\n",
    "    'asin_list': product_list,\n",
    "    'embeddings': h_items\n",
    "}"
   ]
  },
  {
   "cell_type": "code",
   "execution_count": 16,
   "metadata": {},
   "outputs": [],
   "source": [
    "with open('./saved_models/price_niche_ratings/embeddings.pkl', 'wb') as f:\n",
    "\tpickle.dump(data, f)"
   ]
  },
  {
   "cell_type": "code",
   "execution_count": 17,
   "metadata": {},
   "outputs": [
    {
     "data": {
      "text/plain": [
       "dict_keys(['epoch', 'model_state_dict', 'optimizer_state_dict', 'loss', 'hit_rate', 'item_embeddings', 'k', 'batch_size'])"
      ]
     },
     "execution_count": 17,
     "metadata": {},
     "output_type": "execute_result"
    }
   ],
   "source": [
    "checkpoint.keys()"
   ]
  },
  {
   "cell_type": "code",
   "execution_count": null,
   "metadata": {},
   "outputs": [],
   "source": []
  },
  {
   "cell_type": "code",
   "execution_count": 18,
   "metadata": {},
   "outputs": [],
   "source": [
    "def knn_search(query_embedding, node_embeddings, k=10):\n",
    "    # Compute pairwise Euclidean distances\n",
    "    distances = torch.cdist(query_embedding.unsqueeze(0), node_embeddings)\n",
    "\n",
    "    # Sort the distances and get the indices of the K nearest neighbors\n",
    "    _, indices = torch.topk(distances, k+1, largest=False)\n",
    "\n",
    "    return indices.squeeze()"
   ]
  },
  {
   "cell_type": "code",
   "execution_count": 19,
   "metadata": {},
   "outputs": [
    {
     "data": {
      "text/plain": [
       "[(0, 23812, 'https://www.amazon.com/dp/B094NX9F6C'),\n",
       " (1, 65223, 'https://www.amazon.com/dp/B07ZCC8TZJ'),\n",
       " (2, 52700, 'https://www.amazon.com/dp/B009KMYJZQ'),\n",
       " (3, 64404, 'https://www.amazon.com/dp/B00UWB9XTQ'),\n",
       " (4, 42045, 'https://www.amazon.com/dp/B0825M82LQ'),\n",
       " (5, 44850, 'https://www.amazon.com/dp/B09PY7KTVG'),\n",
       " (6, 1394, 'https://www.amazon.com/dp/B09L4SDN3Q'),\n",
       " (7, 4124, 'https://www.amazon.com/dp/B00N8OH1TI'),\n",
       " (8, 89942, 'https://www.amazon.com/dp/B0827WZNC9'),\n",
       " (9, 34026, 'https://www.amazon.com/dp/B07JN911ST'),\n",
       " (10, 17609, 'https://www.amazon.com/dp/B09ZGXQ3DM')]"
      ]
     },
     "execution_count": 19,
     "metadata": {},
     "output_type": "execute_result"
    }
   ],
   "source": [
    "recs = knn_search(h_items[23812], h_items)\n",
    "recs_list = []\n",
    "idx = 0\n",
    "for i in list(recs):\n",
    "\trecs_list.append((idx, int(i), 'https://www.amazon.com/dp/' + dataset['product-list'][i]))\n",
    "\tidx += 1\n",
    "recs_list"
   ]
  },
  {
   "cell_type": "code",
   "execution_count": null,
   "metadata": {},
   "outputs": [],
   "source": []
  }
 ],
 "metadata": {
  "kernelspec": {
   "display_name": "Python 3",
   "language": "python",
   "name": "python3"
  },
  "language_info": {
   "codemirror_mode": {
    "name": "ipython",
    "version": 3
   },
   "file_extension": ".py",
   "mimetype": "text/x-python",
   "name": "python",
   "nbconvert_exporter": "python",
   "pygments_lexer": "ipython3",
   "version": "3.10.12"
  }
 },
 "nbformat": 4,
 "nbformat_minor": 2
}
